{
 "cells": [
  {
   "cell_type": "markdown",
   "id": "04414c8c",
   "metadata": {},
   "source": [
    "### 하이퍼파라미터\n",
    "* 예측력을 높이기 위해 사용\n",
    "* 과대/과소 적합을 방지하기 위해 사용\n",
    "* 사용자가 지정하는 파라미터\n",
    "\n",
    "#### 하이퍼파라미터 튜닝\n",
    "* 특정 알고리즘의 매개변수 값을 변경하면서 최적의 파라미터를 찾는 방식\n",
    "* GridSearchCV클래스를 통해 하이퍼파라미터 탐색과 교차 검증을 한번에 수행\n",
    "\n",
    "#### GridSearchCV\n",
    "* 교차 검증으로 하이퍼파라미터 탐색을 수행\n",
    "* 최상의 모델을 찾은 후 훈련 세트 전체를 사용해 최종 모델을 훈련\n",
    "* 매개변수\n",
    "    - GridSearchCV(모델, param_grid = 파라미터, cv=반복횟수, n_jobs=코어 수(-1, 모든 코어 사용))\n",
    "         - 반복횟수는 3~5 정도 많이 사용"
   ]
  },
  {
   "cell_type": "markdown",
   "id": "a06bca86",
   "metadata": {},
   "source": [
    "### K-최근접 이웃 알고리즘\n",
    "* 주위에서 가장 가까운 다른 데이터를 보고 현재 데이터를 판단\n",
    "\n",
    "#### 하이퍼파라미터\n",
    "* n_neighbors\n",
    "    - 기본 가까운 5개의 데이터를 보고 자기 자신이 어디에 속하는지를 판단\n",
    "    - 비교하고자 하는 데이터의 수가 적을 수록 과대 적합이 됨\n",
    "* metric : 거리계산 척도\n",
    "    - euclidean(녹색) : 유클리디안 거리 측정\n",
    "        * 목표 지점까지 가장 짧은 거리\n",
    "    - manhattan(빨간색) : 맨하튼 거리 측정 방법\n",
    "        * 찾아가는 경로의 모든 길이의 합\n",
    "* weights : 가중치\n",
    "    - uniform : 거리에 가중치 부여하지 않음(균일한 가중치)\n",
    "    - distance : 거리에 가중치 부여(가까이 있는 데이터에 가중치)"
   ]
  },
  {
   "cell_type": "markdown",
   "id": "104c104b",
   "metadata": {},
   "source": [
    "![img](images/거리척도.png)"
   ]
  },
  {
   "cell_type": "code",
   "execution_count": 1,
   "id": "54b45352",
   "metadata": {},
   "outputs": [],
   "source": [
    "from sklearn.neighbors import KNeighborsClassifier\n",
    "from sklearn.preprocessing import MinMaxScaler\n",
    "from sklearn.model_selection import train_test_split\n",
    "import pandas as pd\n",
    "\n",
    "import warnings\n",
    "warnings.filterwarnings(\"ignore\")"
   ]
  },
  {
   "cell_type": "code",
   "execution_count": 2,
   "id": "51d58a4c",
   "metadata": {},
   "outputs": [
    {
     "data": {
      "text/html": [
       "<div>\n",
       "<style scoped>\n",
       "    .dataframe tbody tr th:only-of-type {\n",
       "        vertical-align: middle;\n",
       "    }\n",
       "\n",
       "    .dataframe tbody tr th {\n",
       "        vertical-align: top;\n",
       "    }\n",
       "\n",
       "    .dataframe thead th {\n",
       "        text-align: right;\n",
       "    }\n",
       "</style>\n",
       "<table border=\"1\" class=\"dataframe\">\n",
       "  <thead>\n",
       "    <tr style=\"text-align: right;\">\n",
       "      <th></th>\n",
       "      <th>PassengerId</th>\n",
       "      <th>Survived</th>\n",
       "      <th>Pclass</th>\n",
       "      <th>Sex</th>\n",
       "      <th>Age</th>\n",
       "      <th>SibSp</th>\n",
       "      <th>Parch</th>\n",
       "      <th>Fare</th>\n",
       "    </tr>\n",
       "  </thead>\n",
       "  <tbody>\n",
       "    <tr>\n",
       "      <th>0</th>\n",
       "      <td>1</td>\n",
       "      <td>0</td>\n",
       "      <td>3</td>\n",
       "      <td>0</td>\n",
       "      <td>22.0</td>\n",
       "      <td>1</td>\n",
       "      <td>0</td>\n",
       "      <td>7.2500</td>\n",
       "    </tr>\n",
       "    <tr>\n",
       "      <th>1</th>\n",
       "      <td>2</td>\n",
       "      <td>1</td>\n",
       "      <td>1</td>\n",
       "      <td>1</td>\n",
       "      <td>38.0</td>\n",
       "      <td>1</td>\n",
       "      <td>0</td>\n",
       "      <td>71.2833</td>\n",
       "    </tr>\n",
       "    <tr>\n",
       "      <th>2</th>\n",
       "      <td>3</td>\n",
       "      <td>1</td>\n",
       "      <td>3</td>\n",
       "      <td>1</td>\n",
       "      <td>26.0</td>\n",
       "      <td>0</td>\n",
       "      <td>0</td>\n",
       "      <td>7.9250</td>\n",
       "    </tr>\n",
       "    <tr>\n",
       "      <th>3</th>\n",
       "      <td>4</td>\n",
       "      <td>1</td>\n",
       "      <td>1</td>\n",
       "      <td>1</td>\n",
       "      <td>35.0</td>\n",
       "      <td>1</td>\n",
       "      <td>0</td>\n",
       "      <td>53.1000</td>\n",
       "    </tr>\n",
       "    <tr>\n",
       "      <th>4</th>\n",
       "      <td>5</td>\n",
       "      <td>0</td>\n",
       "      <td>3</td>\n",
       "      <td>0</td>\n",
       "      <td>35.0</td>\n",
       "      <td>0</td>\n",
       "      <td>0</td>\n",
       "      <td>8.0500</td>\n",
       "    </tr>\n",
       "  </tbody>\n",
       "</table>\n",
       "</div>"
      ],
      "text/plain": [
       "   PassengerId  Survived  Pclass  Sex   Age  SibSp  Parch     Fare\n",
       "0            1         0       3    0  22.0      1      0   7.2500\n",
       "1            2         1       1    1  38.0      1      0  71.2833\n",
       "2            3         1       3    1  26.0      0      0   7.9250\n",
       "3            4         1       1    1  35.0      1      0  53.1000\n",
       "4            5         0       3    0  35.0      0      0   8.0500"
      ]
     },
     "execution_count": 2,
     "metadata": {},
     "output_type": "execute_result"
    }
   ],
   "source": [
    "df = pd.read_csv(\"data/titanic_cleaning.csv\")\n",
    "df.head()"
   ]
  },
  {
   "cell_type": "code",
   "execution_count": 3,
   "id": "8abc26bd",
   "metadata": {},
   "outputs": [
    {
     "data": {
      "text/plain": [
       "Index(['PassengerId', 'Survived', 'Pclass', 'Sex', 'Age', 'SibSp', 'Parch',\n",
       "       'Fare'],\n",
       "      dtype='object')"
      ]
     },
     "execution_count": 3,
     "metadata": {},
     "output_type": "execute_result"
    }
   ],
   "source": [
    "df.columns"
   ]
  },
  {
   "cell_type": "code",
   "execution_count": 7,
   "id": "8a3f543e",
   "metadata": {},
   "outputs": [],
   "source": [
    "features = ['Pclass', 'Sex', 'Age', 'SibSp', 'Parch', 'Fare']\n",
    "label = 'Survived'\n",
    "X, y = df[features], df[label]"
   ]
  },
  {
   "cell_type": "markdown",
   "id": "84c10d7d",
   "metadata": {},
   "source": [
    "### min max scaler"
   ]
  },
  {
   "cell_type": "code",
   "execution_count": 8,
   "id": "02e46d75",
   "metadata": {},
   "outputs": [],
   "source": [
    "minMaxScaler = MinMaxScaler()\n",
    "minMaxScaler.fit(X)\n",
    "X_scaler = minMaxScaler.transform(X)"
   ]
  },
  {
   "cell_type": "code",
   "execution_count": 9,
   "id": "718c0cd1",
   "metadata": {},
   "outputs": [],
   "source": [
    "X_train_minMax, X_test_minMax, y_train, y_test = train_test_split(X_scaler, y, test_size=0.2)"
   ]
  },
  {
   "cell_type": "markdown",
   "id": "adc8cc7e",
   "metadata": {},
   "source": [
    "### knn모델 생성"
   ]
  },
  {
   "cell_type": "code",
   "execution_count": 10,
   "id": "f9696ae2",
   "metadata": {},
   "outputs": [
    {
     "name": "stdout",
     "output_type": "stream",
     "text": [
      "train :  0.8609550561797753\n",
      "test :  0.7932960893854749\n"
     ]
    }
   ],
   "source": [
    "knn = KNeighborsClassifier();\n",
    "knn.fit( X_train_minMax, y_train)\n",
    "\n",
    "print(\"train : \", knn.score( X_train_minMax, y_train ))\n",
    "print(\"test : \", knn.score( X_test_minMax, y_test ))"
   ]
  },
  {
   "cell_type": "code",
   "execution_count": 11,
   "id": "ecf3381d",
   "metadata": {},
   "outputs": [
    {
     "name": "stdout",
     "output_type": "stream",
     "text": [
      "1\n",
      "2\n",
      "3\n",
      "4\n",
      "5\n",
      "6\n",
      "7\n",
      "8\n",
      "9\n",
      "10\n"
     ]
    }
   ],
   "source": [
    "k_param = range(1,11)\n",
    "for i in k_param :\n",
    "    print(i)"
   ]
  },
  {
   "cell_type": "code",
   "execution_count": 12,
   "id": "9c8a0dd7",
   "metadata": {},
   "outputs": [
    {
     "name": "stdout",
     "output_type": "stream",
     "text": [
      "train :  0.9831460674157303\n",
      "test :  0.776536312849162\n"
     ]
    }
   ],
   "source": [
    "knn = KNeighborsClassifier( n_neighbors=1)\n",
    "knn.fit(X_train_minMax, y_train)\n",
    "\n",
    "print(\"train : \", knn.score( X_train_minMax, y_train ))\n",
    "print(\"test : \", knn.score( X_test_minMax, y_test ))"
   ]
  },
  {
   "cell_type": "code",
   "execution_count": 13,
   "id": "2668d04f",
   "metadata": {},
   "outputs": [
    {
     "name": "stdout",
     "output_type": "stream",
     "text": [
      "train :  0.8792134831460674\n",
      "test :  0.7988826815642458\n"
     ]
    }
   ],
   "source": [
    "knn = KNeighborsClassifier( n_neighbors=2)\n",
    "knn.fit(X_train_minMax, y_train)\n",
    "\n",
    "print(\"train : \", knn.score( X_train_minMax, y_train ))\n",
    "print(\"test : \", knn.score( X_test_minMax, y_test ))"
   ]
  },
  {
   "cell_type": "code",
   "execution_count": 14,
   "id": "e4680012",
   "metadata": {},
   "outputs": [
    {
     "name": "stdout",
     "output_type": "stream",
     "text": [
      "train :  0.8876404494382022\n",
      "test :  0.8268156424581006\n"
     ]
    }
   ],
   "source": [
    "knn = KNeighborsClassifier( n_neighbors=3)\n",
    "knn.fit(X_train_minMax, y_train)\n",
    "\n",
    "print(\"train : \", knn.score( X_train_minMax, y_train ))\n",
    "print(\"test : \", knn.score( X_test_minMax, y_test ))"
   ]
  },
  {
   "cell_type": "code",
   "execution_count": 15,
   "id": "a6c956cc",
   "metadata": {},
   "outputs": [
    {
     "data": {
      "text/html": [
       "<div>\n",
       "<style scoped>\n",
       "    .dataframe tbody tr th:only-of-type {\n",
       "        vertical-align: middle;\n",
       "    }\n",
       "\n",
       "    .dataframe tbody tr th {\n",
       "        vertical-align: top;\n",
       "    }\n",
       "\n",
       "    .dataframe thead th {\n",
       "        text-align: right;\n",
       "    }\n",
       "</style>\n",
       "<table border=\"1\" class=\"dataframe\">\n",
       "  <thead>\n",
       "    <tr style=\"text-align: right;\">\n",
       "      <th></th>\n",
       "      <th>k</th>\n",
       "    </tr>\n",
       "  </thead>\n",
       "  <tbody>\n",
       "    <tr>\n",
       "      <th>0</th>\n",
       "      <td>1</td>\n",
       "    </tr>\n",
       "    <tr>\n",
       "      <th>1</th>\n",
       "      <td>2</td>\n",
       "    </tr>\n",
       "    <tr>\n",
       "      <th>2</th>\n",
       "      <td>3</td>\n",
       "    </tr>\n",
       "    <tr>\n",
       "      <th>3</th>\n",
       "      <td>4</td>\n",
       "    </tr>\n",
       "    <tr>\n",
       "      <th>4</th>\n",
       "      <td>5</td>\n",
       "    </tr>\n",
       "    <tr>\n",
       "      <th>5</th>\n",
       "      <td>6</td>\n",
       "    </tr>\n",
       "    <tr>\n",
       "      <th>6</th>\n",
       "      <td>7</td>\n",
       "    </tr>\n",
       "    <tr>\n",
       "      <th>7</th>\n",
       "      <td>8</td>\n",
       "    </tr>\n",
       "    <tr>\n",
       "      <th>8</th>\n",
       "      <td>9</td>\n",
       "    </tr>\n",
       "    <tr>\n",
       "      <th>9</th>\n",
       "      <td>10</td>\n",
       "    </tr>\n",
       "  </tbody>\n",
       "</table>\n",
       "</div>"
      ],
      "text/plain": [
       "    k\n",
       "0   1\n",
       "1   2\n",
       "2   3\n",
       "3   4\n",
       "4   5\n",
       "5   6\n",
       "6   7\n",
       "7   8\n",
       "8   9\n",
       "9  10"
      ]
     },
     "execution_count": 15,
     "metadata": {},
     "output_type": "execute_result"
    }
   ],
   "source": [
    "dic = { \"k\" : k_param}\n",
    "pd.DataFrame(dic)"
   ]
  },
  {
   "cell_type": "code",
   "execution_count": 17,
   "id": "6b3105ca",
   "metadata": {},
   "outputs": [
    {
     "data": {
      "text/plain": [
       "[100, 200, 'hello']"
      ]
     },
     "execution_count": 17,
     "metadata": {},
     "output_type": "execute_result"
    }
   ],
   "source": [
    "test = []\n",
    "test.append(100); test.append(200); test.append(\"hello\"); \n",
    "test"
   ]
  },
  {
   "cell_type": "code",
   "execution_count": 18,
   "id": "31c049d0",
   "metadata": {},
   "outputs": [
    {
     "data": {
      "text/html": [
       "<div>\n",
       "<style scoped>\n",
       "    .dataframe tbody tr th:only-of-type {\n",
       "        vertical-align: middle;\n",
       "    }\n",
       "\n",
       "    .dataframe tbody tr th {\n",
       "        vertical-align: top;\n",
       "    }\n",
       "\n",
       "    .dataframe thead th {\n",
       "        text-align: right;\n",
       "    }\n",
       "</style>\n",
       "<table border=\"1\" class=\"dataframe\">\n",
       "  <thead>\n",
       "    <tr style=\"text-align: right;\">\n",
       "      <th></th>\n",
       "      <th>k</th>\n",
       "      <th>test</th>\n",
       "    </tr>\n",
       "  </thead>\n",
       "  <tbody>\n",
       "    <tr>\n",
       "      <th>0</th>\n",
       "      <td>1</td>\n",
       "      <td>100</td>\n",
       "    </tr>\n",
       "    <tr>\n",
       "      <th>1</th>\n",
       "      <td>2</td>\n",
       "      <td>200</td>\n",
       "    </tr>\n",
       "    <tr>\n",
       "      <th>2</th>\n",
       "      <td>3</td>\n",
       "      <td>hello</td>\n",
       "    </tr>\n",
       "  </tbody>\n",
       "</table>\n",
       "</div>"
      ],
      "text/plain": [
       "   k   test\n",
       "0  1    100\n",
       "1  2    200\n",
       "2  3  hello"
      ]
     },
     "execution_count": 18,
     "metadata": {},
     "output_type": "execute_result"
    }
   ],
   "source": [
    "dic= { \"k\":[1,2,3], \"test\":test}\n",
    "pd.DataFrame(dic)"
   ]
  },
  {
   "cell_type": "code",
   "execution_count": 27,
   "id": "7854e786",
   "metadata": {},
   "outputs": [
    {
     "data": {
      "text/html": [
       "<div>\n",
       "<style scoped>\n",
       "    .dataframe tbody tr th:only-of-type {\n",
       "        vertical-align: middle;\n",
       "    }\n",
       "\n",
       "    .dataframe tbody tr th {\n",
       "        vertical-align: top;\n",
       "    }\n",
       "\n",
       "    .dataframe thead th {\n",
       "        text-align: right;\n",
       "    }\n",
       "</style>\n",
       "<table border=\"1\" class=\"dataframe\">\n",
       "  <thead>\n",
       "    <tr style=\"text-align: right;\">\n",
       "      <th></th>\n",
       "      <th>num</th>\n",
       "      <th>train score</th>\n",
       "      <th>test score</th>\n",
       "    </tr>\n",
       "  </thead>\n",
       "  <tbody>\n",
       "    <tr>\n",
       "      <th>0</th>\n",
       "      <td>1</td>\n",
       "      <td>0.983146</td>\n",
       "      <td>0.776536</td>\n",
       "    </tr>\n",
       "    <tr>\n",
       "      <th>1</th>\n",
       "      <td>2</td>\n",
       "      <td>0.879213</td>\n",
       "      <td>0.798883</td>\n",
       "    </tr>\n",
       "    <tr>\n",
       "      <th>2</th>\n",
       "      <td>3</td>\n",
       "      <td>0.887640</td>\n",
       "      <td>0.826816</td>\n",
       "    </tr>\n",
       "    <tr>\n",
       "      <th>3</th>\n",
       "      <td>4</td>\n",
       "      <td>0.870787</td>\n",
       "      <td>0.815642</td>\n",
       "    </tr>\n",
       "    <tr>\n",
       "      <th>4</th>\n",
       "      <td>5</td>\n",
       "      <td>0.860955</td>\n",
       "      <td>0.793296</td>\n",
       "    </tr>\n",
       "  </tbody>\n",
       "</table>\n",
       "</div>"
      ],
      "text/plain": [
       "   num  train score  test score\n",
       "0    1     0.983146    0.776536\n",
       "1    2     0.879213    0.798883\n",
       "2    3     0.887640    0.826816\n",
       "3    4     0.870787    0.815642\n",
       "4    5     0.860955    0.793296"
      ]
     },
     "execution_count": 27,
     "metadata": {},
     "output_type": "execute_result"
    }
   ],
   "source": [
    "k_param = range(1, 51) #맘대로 지정\n",
    "train_list = []\n",
    "test_list = []\n",
    "num_list = []\n",
    "\n",
    "for num in k_param :\n",
    "    knn = KNeighborsClassifier( n_neighbors=num)\n",
    "    knn.fit(X_train_minMax, y_train)\n",
    "    \n",
    "    num_list.append(num)\n",
    "    train_list.append( knn.score(X_train_minMax, y_train))\n",
    "    test_list.append( knn.score(X_test_minMax, y_test))\n",
    "    \n",
    "dic = {\"num\" : num_list, \"train score\" : train_list, \"test score\" : test_list}\n",
    "\n",
    "score_df = pd.DataFrame( dic )\n",
    "score_df.head()"
   ]
  },
  {
   "cell_type": "code",
   "execution_count": 20,
   "id": "58d87691",
   "metadata": {},
   "outputs": [
    {
     "data": {
      "text/plain": [
       "[1, 2, 3, 4, 5, 6, 7, 8, 9, 10]"
      ]
     },
     "execution_count": 20,
     "metadata": {},
     "output_type": "execute_result"
    }
   ],
   "source": [
    "num_list"
   ]
  },
  {
   "cell_type": "code",
   "execution_count": 22,
   "id": "c4c764b4",
   "metadata": {},
   "outputs": [
    {
     "data": {
      "text/plain": [
       "[0.9831460674157303,\n",
       " 0.8792134831460674,\n",
       " 0.8876404494382022,\n",
       " 0.8707865168539326,\n",
       " 0.8609550561797753,\n",
       " 0.8497191011235955,\n",
       " 0.851123595505618,\n",
       " 0.8441011235955056,\n",
       " 0.827247191011236,\n",
       " 0.8230337078651685]"
      ]
     },
     "execution_count": 22,
     "metadata": {},
     "output_type": "execute_result"
    }
   ],
   "source": [
    "train_list"
   ]
  },
  {
   "cell_type": "code",
   "execution_count": 24,
   "id": "7685ed06",
   "metadata": {},
   "outputs": [
    {
     "data": {
      "text/plain": [
       "[0.776536312849162,\n",
       " 0.7988826815642458,\n",
       " 0.8268156424581006,\n",
       " 0.8156424581005587,\n",
       " 0.7932960893854749,\n",
       " 0.776536312849162,\n",
       " 0.8100558659217877,\n",
       " 0.8100558659217877,\n",
       " 0.8268156424581006,\n",
       " 0.8100558659217877]"
      ]
     },
     "execution_count": 24,
     "metadata": {},
     "output_type": "execute_result"
    }
   ],
   "source": [
    "test_list"
   ]
  },
  {
   "cell_type": "markdown",
   "id": "e7075cfe",
   "metadata": {},
   "source": [
    "- 위 데이터를 시각화로 표현"
   ]
  },
  {
   "cell_type": "code",
   "execution_count": 28,
   "id": "bb69b8e9",
   "metadata": {},
   "outputs": [
    {
     "data": {
      "text/plain": [
       "<Axes: xlabel='num', ylabel='train score'>"
      ]
     },
     "execution_count": 28,
     "metadata": {},
     "output_type": "execute_result"
    },
    {
     "data": {
      "image/png": "[encoded data removed]",
      "text/plain": [
       "<Figure size 500x500 with 1 Axes>"
      ]
     },
     "metadata": {},
     "output_type": "display_data"
    }
   ],
   "source": [
    "import matplotlib.pyplot as plt\n",
    "import seaborn as sns\n",
    "\n",
    "plt.rc('font', family=\"Malgun Gothic\")\n",
    "plt.subplots( figsize=(5,5) )\n",
    "\n",
    "sns.lineplot(x=\"num\", y=\"train score\", data= score_df)\n",
    "sns.lineplot(x=\"num\", y=\"test score\", data= score_df)"
   ]
  },
  {
   "cell_type": "markdown",
   "id": "3a446913",
   "metadata": {},
   "source": [
    "### GridSearchCV\n",
    "\n",
    "* GridSearchCV(모델, param_grid=파라미터, cv=폴드 수, n_jobs=코어수)"
   ]
  },
  {
   "cell_type": "code",
   "execution_count": 31,
   "id": "3201f491",
   "metadata": {},
   "outputs": [
    {
     "name": "stdout",
     "output_type": "stream",
     "text": [
      "최적의 하이퍼 파라미터 :  {'n_neighbors': 6}\n",
      "예측력 :  0.8174135723431497\n",
      "train :  0.8497191011235955\n",
      "test :  0.776536312849162\n"
     ]
    }
   ],
   "source": [
    "from sklearn.model_selection import GridSearchCV\n",
    "\n",
    "k_param = range(1,11)\n",
    "params = { \"n_neighbors\" : k_param}\n",
    "\n",
    "knn = KNeighborsClassifier()\n",
    "\n",
    "grid_cv = GridSearchCV(knn, param_grid=params, cv=5, n_jobs=-1)\n",
    "grid_cv.fit(X_train_minMax, y_train)\n",
    "\n",
    "print(\"최적의 하이퍼 파라미터 : \",grid_cv.best_params_)\n",
    "print(\"예측력 : \", grid_cv.best_score_)\n",
    "\n",
    "print(\"train : \", grid_cv.score(X_train_minMax, y_train))\n",
    "print(\"test : \", grid_cv.score(X_test_minMax, y_test))"
   ]
  },
  {
   "cell_type": "code",
   "execution_count": 33,
   "id": "2489537d",
   "metadata": {},
   "outputs": [
    {
     "name": "stdout",
     "output_type": "stream",
     "text": [
      "최적의 하이퍼 파라미터 :  {'metric': 'manhattan', 'n_neighbors': 6, 'weights': 'uniform'}\n",
      "train :  0.8539325842696629\n",
      "test :  0.7988826815642458\n"
     ]
    }
   ],
   "source": [
    "params = {\n",
    "    \"n_neighbors\" : range(1,11), \"metric\" : [\"manhattan\", \"euclidean\"],\n",
    "    \"weights\" : [\"uniform\", \"distance\"]\n",
    "}\n",
    "grid_cv = GridSearchCV(knn, param_grid=params, cv=5, n_jobs=-1)\n",
    "grid_cv.fit(X_train_minMax, y_train)\n",
    "\n",
    "print(\"최적의 하이퍼 파라미터 : \",grid_cv.best_params_)\n",
    "\n",
    "print(\"train : \", grid_cv.score(X_train_minMax, y_train))\n",
    "print(\"test : \", grid_cv.score(X_test_minMax, y_test))"
   ]
  },
  {
   "cell_type": "code",
   "execution_count": null,
   "id": "2cfe6329",
   "metadata": {},
   "outputs": [],
   "source": []
  }
 ],
 "metadata": {
  "kernelspec": {
   "display_name": "Python 3 (ipykernel)",
   "language": "python",
   "name": "python3"
  },
  "language_info": {
   "codemirror_mode": {
    "name": "ipython",
    "version": 3
   },
   "file_extension": ".py",
   "mimetype": "text/x-python",
   "name": "python",
   "nbconvert_exporter": "python",
   "pygments_lexer": "ipython3",
   "version": "3.11.4"
  }
 },
 "nbformat": 4,
 "nbformat_minor": 5
}
