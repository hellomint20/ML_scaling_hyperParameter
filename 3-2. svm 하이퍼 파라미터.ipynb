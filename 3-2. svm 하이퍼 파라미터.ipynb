{
 "cells": [
  {
   "cell_type": "markdown",
   "id": "febd3073",
   "metadata": {},
   "source": [
    "### svm 하이퍼 파라미터\n",
    "* C(cost)\n",
    "    - cost값이 작으면 과소적합 발생\n",
    "        * cost값을 작게하면 훈련 데이터에 대해 어느정도 오류를 허용하게 되며, 새로 들어오는 데이터는 잘 분류할 수 있음\n",
    "    - cost값이 커지면 과대적합 발생\n",
    "        * cost값을 크게하면 훈련 데이터에 대해 오류가 최소화 되지만, 새로 들어오는 데이터는 분류를 잘못할 가능성이 높음"
   ]
  },
  {
   "cell_type": "markdown",
   "id": "8ea41fe0",
   "metadata": {},
   "source": [
    "![img](images/cost.png)"
   ]
  },
  {
   "cell_type": "markdown",
   "id": "77f23d6d",
   "metadata": {},
   "source": [
    "* gamma\n",
    "    - 결정 경계에 영향을 끼치는 범위를 조절하는 변수\n",
    "    - gamma가 크면 과대적합이 될 수 있음\n",
    "        - gamma가 크면 결정경계에 영향력이 커 결정경계가 복잡해짐\n",
    "    - gamma가 작으면 과소적합이 될 수 있음\n",
    "        - gamma가 작으면 결정경계에 영향력이 미미하여 결정경계가 부드러워짐"
   ]
  },
  {
   "cell_type": "markdown",
   "id": "6c8632ea",
   "metadata": {},
   "source": [
    "![img](images/gamma.png)"
   ]
  },
  {
   "cell_type": "code",
   "execution_count": 3,
   "id": "4b91fa11",
   "metadata": {},
   "outputs": [
    {
     "data": {
      "text/html": [
       "<div>\n",
       "<style scoped>\n",
       "    .dataframe tbody tr th:only-of-type {\n",
       "        vertical-align: middle;\n",
       "    }\n",
       "\n",
       "    .dataframe tbody tr th {\n",
       "        vertical-align: top;\n",
       "    }\n",
       "\n",
       "    .dataframe thead th {\n",
       "        text-align: right;\n",
       "    }\n",
       "</style>\n",
       "<table border=\"1\" class=\"dataframe\">\n",
       "  <thead>\n",
       "    <tr style=\"text-align: right;\">\n",
       "      <th></th>\n",
       "      <th>PassengerId</th>\n",
       "      <th>Survived</th>\n",
       "      <th>Pclass</th>\n",
       "      <th>Sex</th>\n",
       "      <th>Age</th>\n",
       "      <th>SibSp</th>\n",
       "      <th>Parch</th>\n",
       "      <th>Fare</th>\n",
       "    </tr>\n",
       "  </thead>\n",
       "  <tbody>\n",
       "    <tr>\n",
       "      <th>0</th>\n",
       "      <td>1</td>\n",
       "      <td>0</td>\n",
       "      <td>3</td>\n",
       "      <td>0</td>\n",
       "      <td>22.0</td>\n",
       "      <td>1</td>\n",
       "      <td>0</td>\n",
       "      <td>7.2500</td>\n",
       "    </tr>\n",
       "    <tr>\n",
       "      <th>1</th>\n",
       "      <td>2</td>\n",
       "      <td>1</td>\n",
       "      <td>1</td>\n",
       "      <td>1</td>\n",
       "      <td>38.0</td>\n",
       "      <td>1</td>\n",
       "      <td>0</td>\n",
       "      <td>71.2833</td>\n",
       "    </tr>\n",
       "    <tr>\n",
       "      <th>2</th>\n",
       "      <td>3</td>\n",
       "      <td>1</td>\n",
       "      <td>3</td>\n",
       "      <td>1</td>\n",
       "      <td>26.0</td>\n",
       "      <td>0</td>\n",
       "      <td>0</td>\n",
       "      <td>7.9250</td>\n",
       "    </tr>\n",
       "    <tr>\n",
       "      <th>3</th>\n",
       "      <td>4</td>\n",
       "      <td>1</td>\n",
       "      <td>1</td>\n",
       "      <td>1</td>\n",
       "      <td>35.0</td>\n",
       "      <td>1</td>\n",
       "      <td>0</td>\n",
       "      <td>53.1000</td>\n",
       "    </tr>\n",
       "    <tr>\n",
       "      <th>4</th>\n",
       "      <td>5</td>\n",
       "      <td>0</td>\n",
       "      <td>3</td>\n",
       "      <td>0</td>\n",
       "      <td>35.0</td>\n",
       "      <td>0</td>\n",
       "      <td>0</td>\n",
       "      <td>8.0500</td>\n",
       "    </tr>\n",
       "  </tbody>\n",
       "</table>\n",
       "</div>"
      ],
      "text/plain": [
       "   PassengerId  Survived  Pclass  Sex   Age  SibSp  Parch     Fare\n",
       "0            1         0       3    0  22.0      1      0   7.2500\n",
       "1            2         1       1    1  38.0      1      0  71.2833\n",
       "2            3         1       3    1  26.0      0      0   7.9250\n",
       "3            4         1       1    1  35.0      1      0  53.1000\n",
       "4            5         0       3    0  35.0      0      0   8.0500"
      ]
     },
     "execution_count": 3,
     "metadata": {},
     "output_type": "execute_result"
    }
   ],
   "source": [
    "from sklearn.model_selection import train_test_split\n",
    "from sklearn.svm import SVC\n",
    "from sklearn.preprocessing import StandardScaler\n",
    "import pandas as pd\n",
    "\n",
    "df = pd.read_csv(\"data/titanic_cleaning.csv\")\n",
    "df.head()"
   ]
  },
  {
   "cell_type": "code",
   "execution_count": 4,
   "id": "0ee9a29b",
   "metadata": {},
   "outputs": [],
   "source": [
    "features = ['Pclass', 'Sex', 'Age', 'SibSp', 'Parch', 'Fare']\n",
    "label = 'Survived'\n",
    "X, y = df[features], df[label]"
   ]
  },
  {
   "cell_type": "code",
   "execution_count": 5,
   "id": "d83837e4",
   "metadata": {},
   "outputs": [],
   "source": [
    "scaler = StandardScaler()\n",
    "scaler.fit(X)\n",
    "X_scaler = scaler.transform(X)\n",
    "\n",
    "X_train, X_test, y_train, y_test = train_test_split(X_scaler, y, test_size=0.2)"
   ]
  },
  {
   "cell_type": "code",
   "execution_count": 6,
   "id": "d54455a1",
   "metadata": {},
   "outputs": [
    {
     "name": "stdout",
     "output_type": "stream",
     "text": [
      "train :  0.7851123595505618\n",
      "test :  0.7932960893854749\n"
     ]
    }
   ],
   "source": [
    "svc = SVC(kernel=\"linear\")\n",
    "svc.fit( X_train , y_train)\n",
    "print(\"train : \", svc.score(X_train, y_train ) )\n",
    "print(\"test : \", svc.score(X_test, y_test ) )"
   ]
  },
  {
   "cell_type": "markdown",
   "id": "2887f553",
   "metadata": {},
   "source": [
    "### 하이퍼 파라미터"
   ]
  },
  {
   "cell_type": "code",
   "execution_count": 7,
   "id": "1ac5eb7d",
   "metadata": {},
   "outputs": [
    {
     "name": "stdout",
     "output_type": "stream",
     "text": [
      "train :  0.7851123595505618\n",
      "test :  0.7932960893854749\n"
     ]
    }
   ],
   "source": [
    "svc = SVC(kernel=\"linear\", C=100 )\n",
    "svc.fit( X_train, y_train )\n",
    "\n",
    "print(\"train : \", svc.score(X_train, y_train ) )\n",
    "print(\"test : \", svc.score(X_test, y_test ) )"
   ]
  },
  {
   "cell_type": "code",
   "execution_count": 8,
   "id": "6884985f",
   "metadata": {},
   "outputs": [],
   "source": [
    "param_cost = [ 0.001, 0.01, 0.1,  1.0,  10.0, 100.0 ]\n",
    "train_list = []\n",
    "test_list = []\n",
    "cost_list = []\n",
    "\n",
    "for cost in param_cost:\n",
    "    svc = SVC(kernel=\"linear\", C=cost)\n",
    "    svc.fit( X_train, y_train)\n",
    "    \n",
    "    cost_list.append( cost )\n",
    "    test_list.append( svc.score(X_test, y_test))\n",
    "    train_list.append(svc.score(X_train, y_train))\n",
    "    \n",
    "dic = {\"cost\":cost_list, \"train\" :train_list, \"test\" : test_list}\n",
    "score_df = pd.DataFrame(dic)"
   ]
  },
  {
   "cell_type": "code",
   "execution_count": 9,
   "id": "be67331d",
   "metadata": {},
   "outputs": [
    {
     "data": {
      "text/html": [
       "<div>\n",
       "<style scoped>\n",
       "    .dataframe tbody tr th:only-of-type {\n",
       "        vertical-align: middle;\n",
       "    }\n",
       "\n",
       "    .dataframe tbody tr th {\n",
       "        vertical-align: top;\n",
       "    }\n",
       "\n",
       "    .dataframe thead th {\n",
       "        text-align: right;\n",
       "    }\n",
       "</style>\n",
       "<table border=\"1\" class=\"dataframe\">\n",
       "  <thead>\n",
       "    <tr style=\"text-align: right;\">\n",
       "      <th></th>\n",
       "      <th>cost</th>\n",
       "      <th>train</th>\n",
       "      <th>test</th>\n",
       "    </tr>\n",
       "  </thead>\n",
       "  <tbody>\n",
       "    <tr>\n",
       "      <th>0</th>\n",
       "      <td>0.001</td>\n",
       "      <td>0.636236</td>\n",
       "      <td>0.614525</td>\n",
       "    </tr>\n",
       "    <tr>\n",
       "      <th>1</th>\n",
       "      <td>0.010</td>\n",
       "      <td>0.785112</td>\n",
       "      <td>0.793296</td>\n",
       "    </tr>\n",
       "    <tr>\n",
       "      <th>2</th>\n",
       "      <td>0.100</td>\n",
       "      <td>0.785112</td>\n",
       "      <td>0.793296</td>\n",
       "    </tr>\n",
       "    <tr>\n",
       "      <th>3</th>\n",
       "      <td>1.000</td>\n",
       "      <td>0.785112</td>\n",
       "      <td>0.793296</td>\n",
       "    </tr>\n",
       "    <tr>\n",
       "      <th>4</th>\n",
       "      <td>10.000</td>\n",
       "      <td>0.785112</td>\n",
       "      <td>0.793296</td>\n",
       "    </tr>\n",
       "    <tr>\n",
       "      <th>5</th>\n",
       "      <td>100.000</td>\n",
       "      <td>0.785112</td>\n",
       "      <td>0.793296</td>\n",
       "    </tr>\n",
       "  </tbody>\n",
       "</table>\n",
       "</div>"
      ],
      "text/plain": [
       "      cost     train      test\n",
       "0    0.001  0.636236  0.614525\n",
       "1    0.010  0.785112  0.793296\n",
       "2    0.100  0.785112  0.793296\n",
       "3    1.000  0.785112  0.793296\n",
       "4   10.000  0.785112  0.793296\n",
       "5  100.000  0.785112  0.793296"
      ]
     },
     "execution_count": 9,
     "metadata": {},
     "output_type": "execute_result"
    }
   ],
   "source": [
    "score_df"
   ]
  },
  {
   "cell_type": "markdown",
   "id": "802e8e90",
   "metadata": {},
   "source": [
    "### gridSearchCV"
   ]
  },
  {
   "cell_type": "code",
   "execution_count": 11,
   "id": "164153fa",
   "metadata": {},
   "outputs": [
    {
     "name": "stdout",
     "output_type": "stream",
     "text": [
      "최적의 파라미터 :  {'C': 100.0, 'gamma': 0.01}\n",
      "train :  0.827247191011236\n",
      "test :  0.8324022346368715\n"
     ]
    }
   ],
   "source": [
    "from sklearn.model_selection import GridSearchCV\n",
    "\n",
    "param_c = [ 0.001, 0.01, 0.1, 1.0, 10.0, 100.0]\n",
    "param_gamma = [ 0.001, 0.01, 0.1, 1.0, 10.0 ]\n",
    "\n",
    "params= {\"C\": param_c, \"gamma\": param_gamma}\n",
    "svc = SVC(kernel=\"rbf\")\n",
    "\n",
    "grid_cv = GridSearchCV(svc, param_grid=params, cv=3, n_jobs=-1)\n",
    "grid_cv.fit( X_train, y_train)\n",
    "\n",
    "print(\"최적의 파라미터 : \", grid_cv.best_params_)\n",
    "\n",
    "print(\"train : \",grid_cv.score(X_train, y_train))\n",
    "print(\"test : \",grid_cv.score(X_test, y_test))"
   ]
  },
  {
   "cell_type": "code",
   "execution_count": null,
   "id": "87bdf69f",
   "metadata": {},
   "outputs": [],
   "source": []
  }
 ],
 "metadata": {
  "kernelspec": {
   "display_name": "Python 3 (ipykernel)",
   "language": "python",
   "name": "python3"
  },
  "language_info": {
   "codemirror_mode": {
    "name": "ipython",
    "version": 3
   },
   "file_extension": ".py",
   "mimetype": "text/x-python",
   "name": "python",
   "nbconvert_exporter": "python",
   "pygments_lexer": "ipython3",
   "version": "3.11.4"
  }
 },
 "nbformat": 4,
 "nbformat_minor": 5
}
